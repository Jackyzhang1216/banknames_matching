{
 "cells": [
  {
   "cell_type": "markdown",
   "metadata": {},
   "source": [
    "# Bank Ambiguous Name Pairing"
   ]
  },
  {
   "cell_type": "code",
   "execution_count": 1,
   "metadata": {
    "scrolled": true
   },
   "outputs": [
    {
     "name": "stdout",
     "output_type": "stream",
     "text": [
      "Requirement already satisfied: fuzzywuzzy in /Users/zhengzhang/anaconda3/lib/python3.7/site-packages (0.18.0)\n",
      "Note: you may need to restart the kernel to use updated packages.\n"
     ]
    }
   ],
   "source": [
    "pip install fuzzywuzzy"
   ]
  },
  {
   "cell_type": "code",
   "execution_count": 2,
   "metadata": {},
   "outputs": [],
   "source": [
    "import re\n",
    "import pandas as pd\n",
    "import numpy as np\n",
    "from fuzzywuzzy import fuzz"
   ]
  },
  {
   "cell_type": "markdown",
   "metadata": {},
   "source": [
    "- https://www.datacamp.com/community/tutorials/fuzzy-string-python\n"
   ]
  },
  {
   "cell_type": "markdown",
   "metadata": {},
   "source": [
    "* Import your Dataset"
   ]
  },
  {
   "cell_type": "code",
   "execution_count": 3,
   "metadata": {},
   "outputs": [
    {
     "ename": "NameError",
     "evalue": "name 'pd' is not defined",
     "output_type": "error",
     "traceback": [
      "\u001b[0;31m---------------------------------------------------------------------------\u001b[0m",
      "\u001b[0;31mNameError\u001b[0m                                 Traceback (most recent call last)",
      "\u001b[0;32m<ipython-input-3-11cc17099206>\u001b[0m in \u001b[0;36m<module>\u001b[0;34m\u001b[0m\n\u001b[0;32m----> 1\u001b[0;31m \u001b[0mamb_data\u001b[0m \u001b[0;34m=\u001b[0m \u001b[0mpd\u001b[0m\u001b[0;34m.\u001b[0m\u001b[0mread_csv\u001b[0m\u001b[0;34m(\u001b[0m\u001b[0;34m'your dataset'\u001b[0m\u001b[0;34m)\u001b[0m\u001b[0;34m\u001b[0m\u001b[0;34m\u001b[0m\u001b[0m\n\u001b[0m\u001b[1;32m      2\u001b[0m \u001b[0;31m# you are going to compare company A and B in the following codes\u001b[0m\u001b[0;34m\u001b[0m\u001b[0;34m\u001b[0m\u001b[0;34m\u001b[0m\u001b[0m\n\u001b[1;32m      3\u001b[0m \u001b[0;31m# name your company A column as \"namefull\", and B column as \"company\". So that you can use all the function I defined below\u001b[0m\u001b[0;34m\u001b[0m\u001b[0;34m\u001b[0m\u001b[0;34m\u001b[0m\u001b[0m\n",
      "\u001b[0;31mNameError\u001b[0m: name 'pd' is not defined"
     ]
    }
   ],
   "source": [
    "amb_data = pd.read_csv('your dataset')\n",
    "# you are going to compare company A and B in the following codes\n",
    "# name your company A column as \"namefull\", and B column as \"company\". So that you can use all the function I defined below"
   ]
  },
  {
   "cell_type": "markdown",
   "metadata": {},
   "source": [
    "## Helper Functions"
   ]
  },
  {
   "cell_type": "code",
   "execution_count": 31,
   "metadata": {},
   "outputs": [],
   "source": [
    "def listToString(s):  \n",
    "    \n",
    "    # initialize an empty string \n",
    "    str1 = \"\"  \n",
    "    \n",
    "    # traverse in the string   \n",
    "    for ele in s:  \n",
    "        str1 += ele + ' '\n",
    "    \n",
    "    # return string   \n",
    "    return str1  "
   ]
  },
  {
   "cell_type": "code",
   "execution_count": null,
   "metadata": {},
   "outputs": [],
   "source": [
    "def info(df):\n",
    "    info = []\n",
    "    full = df['namefull'].tolist()\n",
    "    cname = df['company'].tolist()\n",
    "    for i in np.arange(len(full)):\n",
    "        pair = [full[i], cname[i]]\n",
    "        info.append(compare_message(pair[0], pair[1]))\n",
    "    return info"
   ]
  },
  {
   "cell_type": "code",
   "execution_count": null,
   "metadata": {},
   "outputs": [],
   "source": [
    "def dummy_generator(df):\n",
    "    info = df['info'].tolist()\n",
    "    output = []\n",
    "    for i in info:\n",
    "        if \"Matched\" in i:\n",
    "            output.append(1)\n",
    "        else:\n",
    "            output.append(0)\n",
    "    return output"
   ]
  },
  {
   "cell_type": "code",
   "execution_count": null,
   "metadata": {},
   "outputs": [],
   "source": [
    "def group_assgin(df):\n",
    "    info = df['info'].tolist()\n",
    "    output = []\n",
    "    for i in info:\n",
    "        # Group 1: 100% Correct\n",
    "        if 'Matched' in i:\n",
    "            output.append('Group 1')\n",
    "        elif 'Must Conflict' in i:\n",
    "            output.append('Group 1')\n",
    "        # Group 2: Manual Check needed\n",
    "        else:\n",
    "            output.append('Group 2')\n",
    "    return output"
   ]
  },
  {
   "cell_type": "markdown",
   "metadata": {},
   "source": [
    "# Filter Function"
   ]
  },
  {
   "cell_type": "code",
   "execution_count": 1,
   "metadata": {},
   "outputs": [],
   "source": [
    "# Conf: a nested list that contains pair of strings that must be conflict with each other\n",
    "conf = [['WESTERN', 'EASTERN'], ['NORTHEN', 'SOUTHEN'], \n",
    "        ['NORTH', 'SOUTH'], ['EAST', 'WEST'], \n",
    "        ['SOUTHEASTERN', 'EASTERN'], ['TEJAS', 'TEXAS'], \n",
    "        ['TEXAN', 'TEJAS'], ['BELLVILLE', 'BEEVILLE']]\n",
    "\n",
    "\n",
    "# Inter: a nested list that contains pair of strings that are interchangable when matching Banks names\n",
    "inter = [['NEW YORK', 'NY'], ['1ST', 'FIRST'], \n",
    "         ['F.S.B.', 'FSB'], ['IOWA', 'IA'], \n",
    "         ['CCNB –', ''], ['/ BNY', ''], \n",
    "         ['SAVINGS', 'SAVING'], ['SAVING', 'SAVIN'], \n",
    "         ['SAVINGS', 'SAVINS'], ['PROAMERICA', 'PROAMÉRICA'], \n",
    "         ['BANK', 'BANKS'], ['CO.', 'COMPANY '],\n",
    "        ['ESPIRITO', 'ESPÍRITO'], ['&', 'AND'], \n",
    "        ['CENTER', 'CENTRE'], ['GRAVETTE', 'GRAVETT']]"
   ]
  },
  {
   "cell_type": "code",
   "execution_count": 2,
   "metadata": {
    "scrolled": true
   },
   "outputs": [],
   "source": [
    "# Compare_message: compare string A and B. Return a message indicating if A and B is a correct match or not with specific reasons\n",
    "# A: Is the String A\n",
    "\n",
    "def compare_message(A, B, conflicts = conf, interchange = inter):\n",
    "    # Interchangable fix: add interchangable words\n",
    "    for i in interchange:\n",
    "        A = A.upper()\n",
    "        B = B.upper()\n",
    "        i1 = i[0]\n",
    "        i2 = i[1]\n",
    "        case_1 = i1 in A and i2 in B\n",
    "        case_2 = i1 in B and i2 in A\n",
    "        if any([case_1, case_2]):\n",
    "            start = '^(' + i1 + ')\\s'\n",
    "            mid = '\\s+(' + i1 + ')$'\n",
    "            end = '\\s+(' + i1 + ')\\,*\\s+'\n",
    "            reg2 = \" \" + i2 + ' '\n",
    "            A = re.sub(start, reg2, A)\n",
    "            A = re.sub(mid, reg2, A)\n",
    "            A = re.sub(end, reg2, A)\n",
    "            B = re.sub(start, reg2, B)\n",
    "            B = re.sub(mid, reg2, B)\n",
    "            B = re.sub(end, reg2, B)\n",
    "\n",
    "    # 100% Matched\n",
    "    a, b = A, B\n",
    "    a, b = a.strip(), b.strip()\n",
    "    if a==b:\n",
    "        return \"Matched\"\n",
    "    \n",
    "    # MUST CONFLICT CASES\n",
    "    a, b = A.upper(), B.upper()\n",
    "    for i in conflicts:\n",
    "        j1 = i[0]\n",
    "        j2 = i[1]\n",
    "        if j1 in a and j2 in b:\n",
    "            return \"(\" + j1 + ')' +' vs '+'(' + j2 + ') ' + 'Must Conflict'\n",
    "        if (j1 in b) and (j2 in a):\n",
    "            return \"(\" + j1 + ')' +' vs '+'(' + j2 + ') ' + 'Must Conflict'\n",
    "    \n",
    "    # Case of Co. Co and Company\n",
    "    a, b = A.upper(), B.upper()\n",
    "    a, b = a.strip(), b.strip()\n",
    "    a, b = re.sub('CO\\.$', ' ', a), re.sub('CO\\.$', ' ', b)\n",
    "    a, b = re.sub('CO$', ' ', a), re.sub('CO$', ' ', b)\n",
    "    a, b = re.sub('COMPANY$', ' ', a), re.sub('COMPANY$', ' ', b)\n",
    "    a, b = re.sub('INC\\.*$', ' ', a), re.sub('INC\\.*$', ' ', b)\n",
    "    a, b = a.replace('.', ''), b.replace('.', '')\n",
    "    a, b = a.replace(',', ''), b.replace(',', '')\n",
    "    a, b = a.replace('-', ' '), b.replace('-', ' ')\n",
    "    a, b = re.sub('\\s+','',a), re.sub('\\s+','',b)\n",
    "    if a == b:\n",
    "        return \"Company, Co., Co, INC., Matched\"\n",
    "    \n",
    "    # Case of FSB\n",
    "    a, b = A.upper(), B.upper()\n",
    "    a, b = a.strip(), b.strip()\n",
    "    a, b = re.sub('FSB$', ' ', a), re.sub('FSB$', ' ', b)\n",
    "    a, b = a.replace('.', ''), b.replace('.', '')\n",
    "    a, b = a.replace(',', ''), b.replace(',', '')\n",
    "    a, b = a.replace('-', ' '), b.replace('-', ' ')\n",
    "    a, b = re.sub('\\s+','',a), re.sub('\\s+','',b)\n",
    "    if a == b:\n",
    "        return \"W and W/O FSB, Matched\"\n",
    "    \n",
    "    # Case of SSB\n",
    "    a, b = A.upper(), B.upper()\n",
    "    a, b = a.strip(), b.strip()\n",
    "    a, b = re.sub('SSB$', ' ', a), re.sub('SSB$', ' ', b)\n",
    "    a, b = a.replace('.', ''), b.replace('.', '')\n",
    "    a, b = a.replace(',', ''), b.replace(',', '')\n",
    "    a, b = a.replace('-', ' '), b.replace('-', ' ')\n",
    "    a, b = re.sub('\\s+','',a), re.sub('\\s+','',b)\n",
    "    if a == b:\n",
    "        return \"W and W/O SSB, Matched\"\n",
    "\n",
    "    # Matched Cases\n",
    "    a, b = A.replace('.', ''), B.replace('.', '')\n",
    "    a, b = a.replace(',', ''), b.replace(',', '')\n",
    "    a, b = a.replace('-', ' '), b.replace('-', ' ')\n",
    "    a, b = a.strip(), b.strip()\n",
    "    a, b = re.sub('\\s+','',a), re.sub('\\s+','',b)\n",
    "    if fuzz.ratio(A.lower(), B.lower()) >= 99 or a.upper() == b.upper():\n",
    "        return \"Non-alphanumeric, Matched\"\n",
    "    \n",
    "    # Double Space Case\n",
    "    a, b = re.sub('\\s+',' ',A), re.sub('\\s+',' ',B)\n",
    "    if a.upper()==b.upper():\n",
    "        return 'Double space, Matched'\n",
    "    \n",
    "    # Case of And and &\n",
    "    if '&' in A or '&' in B:\n",
    "        if '&' in A:\n",
    "            a = A.replace('&', ' and ')\n",
    "        if '&' in B:\n",
    "            b = B.replace('&', ' and ')\n",
    "        a, b = re.sub('\\s','',a), re.sub('\\s','',b)\n",
    "        a, b = re.sub('\\W','',a), re.sub('\\W','',b)                         \n",
    "        if a.upper() == b.upper():\n",
    "            return \"(&) vs (AND), Matched\"\n",
    "        \n",
    "    # Case 'The'\n",
    "    a, b = A.upper(), B.upper()\n",
    "    if 'THE' in a or 'THE' in a:\n",
    "        if 'THE' in a:\n",
    "            a = a.replace('THE', '')\n",
    "        if 'THE' in b:\n",
    "            b = b.replace('THE', '')\n",
    "        a, b = a.replace('-', ' '), b.replace('-', ' ')\n",
    "        a, b = a.replace('OF', ' '), b.replace('OF', ' ')\n",
    "        a, b = re.sub('\\s+','',a), re.sub('\\s+','',b)\n",
    "        if a.upper() == b.upper():\n",
    "            return \"W and W/O (THE), Matched\"\n",
    "    \n",
    "    # Single Space Case\n",
    "    a, b = re.sub('\\s','',A), re.sub('\\s','',B)\n",
    "    if a.upper()==b.upper():\n",
    "        return 'Single space, Matched'\n",
    "    \n",
    "    # IS IT ABOUT SOME NON-ALPHANUMERIC CHARACTERS?\n",
    "    a, b = A, B\n",
    "    a, b = re.sub('\\W','',a), re.sub('\\W','',b)\n",
    "    if a.upper()==b.upper():\n",
    "        return 'Non-alphanumeric, Matched'\n",
    "    \n",
    "    # Case of '-', 'in', 'of'\n",
    "    a, b = A.upper(), B.upper()\n",
    "    a, b = a.replace('-', ''), b.replace('-', '')\n",
    "    a, b = a.replace('，', ''), b.replace('，', '')\n",
    "    a, b = a.replace('THE', ''), b.replace('THE', '')\n",
    "    a, b = a.replace('IN', ''), b.replace('IN', '')\n",
    "    a, b = a.replace('OF', ''), b.replace('OF', '')\n",
    "    a, b = re.sub('\\W','',a), re.sub('\\W','',b)\n",
    "    a, b = re.sub('\\s+','',a), re.sub('\\s+','',b)\n",
    "    if a.upper()==b.upper():\n",
    "        return 'Non-alphanumeric, Matched'\n",
    "    \n",
    "    # Case of N.A. \n",
    "    a, b = A.upper(), B.upper()\n",
    "    if 'NA' in a or 'NA' in b:\n",
    "        a, b = a.strip(), b.strip()\n",
    "        a, b = re.sub('\\s+NA$','',a), re.sub('\\s+NA$','',b)\n",
    "        a, b = a.replace(',', ''), b.replace(',', '')\n",
    "        a, b = a.replace('-', ''), b.replace('-', '')\n",
    "        if a == b:\n",
    "            return 'W and W/O (N.A.), Matched'\n",
    "    a, b = re.sub('\\s+','',a), re.sub('\\s+','',b)\n",
    "    if 'N.A.' in a or 'N.A.' in b or 'N.A' in a or 'N.A' in b:\n",
    "        a, b = a.replace('N.A.', ''), b.replace('N.A.', '')\n",
    "        a, b = a.replace('N.A', ''), b.replace('N.A', '')\n",
    "        a, b = a.replace(',', ''), b.replace(',', '')\n",
    "        a, b = a.replace('-', ''), b.replace('-', '')\n",
    "        if a == b:\n",
    "            return 'W and W/O (N.A.), Matched' \n",
    "    \n",
    "    # Case of S.A.\n",
    "    a, b = A.upper(), B.upper()\n",
    "    a, b = re.sub('\\s+','',a), re.sub('\\s+','',b)\n",
    "    if 'S.A.' in a or 'S.A.' in b or 'S.A' in a or 'S.A' in b:\n",
    "        a, b = a.replace('S.A.', ''), b.replace('S.A.', '')\n",
    "        a, b = a.replace('S.A', ''), b.replace('S.A', '')\n",
    "        a, b = a.replace(',', ''), b.replace(',', '')\n",
    "        a, b = a.replace('-', ''), b.replace('-', '')\n",
    "        if a == b:\n",
    "            return 'W and W/O (S.A.), Matched'\n",
    "    \n",
    "    # IS IT ABOUT SOME WORDS BEING DIFFERENT?\n",
    "    a, b = A, B\n",
    "    # Added: Case where period and comma messed up the matching\n",
    "    a, b = A.replace('.', ' '), B.replace('.', ' ')\n",
    "    a, b = a.replace(',', ' '), b.replace(',', ' ')\n",
    "    a, b = a.replace('-', ''), b.replace('-', '')\n",
    "    a, b = a.replace('N.A.', ''), b.replace('N.A.', '')\n",
    "    a, b = a.replace('N.A', ''), b.replace('N.A', '')\n",
    "    a, b = a.strip(), b.strip()\n",
    "    a, b = re.sub('\\s+',' ',a), re.sub('\\s+',' ',b)\n",
    "    a, b = a.upper(), b.upper()\n",
    "    a_words, b_words = a.split(' '), b.split(' ')\n",
    "    \n",
    "    # SAME NUMBER OF WORDS ?\n",
    "    if len(a_words)==len(b_words):\n",
    "        a_specific_words, b_specific_words = [], []\n",
    "        for i in range(len(a_words)):\n",
    "            if a_words[i]!=b_words[i]:\n",
    "                a_specific_words.append(a_words[i])\n",
    "                b_specific_words.append(b_words[i])\n",
    "        a_msg = '; '.join(a_specific_words)\n",
    "        b_msg = '; '.join(b_specific_words)\n",
    "        if 'FIRST' in a_specific_words or 'FIRST' in b_specific_words:\n",
    "            return '(%s) vs (%s), Must Conflict: First vs Other words' % (a_msg,b_msg)\n",
    "        return '(%s) vs (%s)' % (a_msg,b_msg)\n",
    "    \n",
    "    # ONE AND ONLY ONE EXTRA DISTINCT WORD\n",
    "    if abs(len(a_words)-len(b_words))==1:\n",
    "        # Case of THE\n",
    "        if \"THE\" in a or \"THE\" in b:\n",
    "            if \"THE\" in a_words:\n",
    "                a_words.remove('THE')\n",
    "            if \"THE\" in b_words:\n",
    "                b_words.remove('THE')\n",
    "            if a_words==b_words:\n",
    "                return \"W and W/O (THE), Matched\"\n",
    "\n",
    "        # Case of 'The First National Bank Of'\n",
    "        contain = 'FIRST NATIONAL BANK'\n",
    "        if contain in a and contain in b:\n",
    "            a, b = a.replace('THE', ''), b.replace('THE', '')\n",
    "            a, b = a.replace('OF', ''), b.replace('OF', '')\n",
    "            a, b = a.replace('IN', ''), b.replace('IN', '')\n",
    "            a, b = a.replace(contain, ''), b.replace(contain, '')\n",
    "            a, b = a.strip(), b.strip()\n",
    "            return '(' + a + ')' + ' vs ' + '(' + b + ')'  \n",
    "            \n",
    "        a_specific_words = list(filter(lambda x: x not in b_words, a_words))\n",
    "        b_specific_words = list(filter(lambda x: x not in a_words, b_words))\n",
    "        \n",
    "        # Other Difference\n",
    "        in_a = listToString(a_specific_words).strip().replace(' ', '; ')\n",
    "        in_b = listToString(b_specific_words).strip().replace(' ', '; ')\n",
    "        if 'FIRST' in in_a or 'FIRST' in in_b:\n",
    "            return '(' + in_a + ') vs (' + in_b + ')' + ', Must Conflict: First vs Other words'\n",
    "        return '(' + in_a + ') vs (' + in_b + ')'\n",
    "        \n",
    "        if len(a_specific_words)+len(b_specific_words)==1:\n",
    "            if len(a_words)>len(b_words):\n",
    "                shorter_seq = b_words\n",
    "                longer_seq  = a_words\n",
    "            elif len(a_words)<len(b_words):\n",
    "                shorter_seq = a_words\n",
    "                longer_seq  = b_words\n",
    "\n",
    "            # corner difference\n",
    "            if longer_seq[0]!=shorter_seq[0]:\n",
    "                return '{%s} %s' %(longer_seq[0],' '.join(longer_seq[1:]))\n",
    "            if longer_seq[-1]!=shorter_seq[-1]:\n",
    "                return '%s {%s}' %(' '.join(longer_seq[:-1]),longer_seq[-1])\n",
    "         \n",
    "            # interior difference\n",
    "            N = len(longer_seq)\n",
    "            for i in range(1,N-1):\n",
    "                if longer_seq[i]!=shorter_seq[i]:\n",
    "                    return '%s {%s} %s' %(' '.join(longer_seq[:i]),longer_seq[i],' '.join(longer_seq[i+1:]))\n",
    "                \n",
    "    if abs(len(a_words)-len(b_words)) != 1:\n",
    "        a_specific_words = list(filter(lambda x: x not in b_words, a_words))\n",
    "        b_specific_words = list(filter(lambda x: x not in a_words, b_words))\n",
    "        in_a = listToString(a_specific_words).strip().replace(' ', '; ')\n",
    "        in_b = listToString(b_specific_words).strip().replace(' ', '; ')\n",
    "        return '(' + in_a + ') vs (' + in_b + ')' + 'Two or More Diffs'\n",
    "    return 'Unidentified'"
   ]
  },
  {
   "cell_type": "code",
   "execution_count": 74,
   "metadata": {},
   "outputs": [],
   "source": [
    "amb_data['info'] = info(amb_data)"
   ]
  },
  {
   "cell_type": "code",
   "execution_count": 76,
   "metadata": {},
   "outputs": [],
   "source": [
    "amb_data['correct_match'] = dummy_generator(amb_data)"
   ]
  },
  {
   "cell_type": "code",
   "execution_count": 78,
   "metadata": {
    "scrolled": false
   },
   "outputs": [],
   "source": [
    "amb_data['group'] = group_assgin(amb_data)"
   ]
  },
  {
   "cell_type": "code",
   "execution_count": 83,
   "metadata": {},
   "outputs": [],
   "source": [
    "amb_data = amb_data.drop([0], 0)"
   ]
  },
  {
   "cell_type": "markdown",
   "metadata": {},
   "source": [
    "# Expore completed DS"
   ]
  },
  {
   "cell_type": "code",
   "execution_count": 85,
   "metadata": {},
   "outputs": [],
   "source": [
    "amb_data.to_csv('filtered_data.csv')"
   ]
  }
 ],
 "metadata": {
  "kernelspec": {
   "display_name": "Python 3",
   "language": "python",
   "name": "python3"
  },
  "language_info": {
   "codemirror_mode": {
    "name": "ipython",
    "version": 3
   },
   "file_extension": ".py",
   "mimetype": "text/x-python",
   "name": "python",
   "nbconvert_exporter": "python",
   "pygments_lexer": "ipython3",
   "version": "3.7.3"
  }
 },
 "nbformat": 4,
 "nbformat_minor": 2
}
